{
 "cells": [
  {
   "cell_type": "code",
   "execution_count": 3,
   "id": "592c125a",
   "metadata": {},
   "outputs": [],
   "source": [
    "import numpy as np\n",
    "import tensorflow as tf\n",
    "\n",
    "from tensorflow.keras.utils import load_img, img_to_array\n",
    "from time import time\n",
    "from matplotlib import pyplot as plt\n",
    "import os"
   ]
  },
  {
   "cell_type": "code",
   "execution_count": 94,
   "id": "26dde4c8",
   "metadata": {},
   "outputs": [],
   "source": [
    "image = load_img('C:/Users/Eliza Marie/Desktop/thesis 2/training/test/tamban/IMG20230303195404 256 x 256.jpg', \n",
    "                 target_size=(224, 224))"
   ]
  },
  {
   "cell_type": "code",
   "execution_count": 95,
   "id": "65a31b0e",
   "metadata": {},
   "outputs": [
    {
     "name": "stdout",
     "output_type": "stream",
     "text": [
      "(1, 224, 224, 3)\n"
     ]
    }
   ],
   "source": [
    "image = img_to_array(image)\n",
    "# reshape data for the model\n",
    "image = image.reshape((1, image.shape[0], image.shape[1], image.shape[2]))\n",
    "print(image.shape)"
   ]
  },
  {
   "cell_type": "code",
   "execution_count": 38,
   "id": "e95f05bc",
   "metadata": {},
   "outputs": [],
   "source": [
    "from keras.utils import normalize\n",
    "image = normalize(image, axis=1)"
   ]
  },
  {
   "cell_type": "code",
   "execution_count": 41,
   "id": "e758b69e",
   "metadata": {},
   "outputs": [
    {
     "name": "stdout",
     "output_type": "stream",
     "text": [
      "Keras Model size is:  0.00390625 MB\n"
     ]
    }
   ],
   "source": [
    "###############################################\n",
    "###PREDICT USING REGULAR KERAS TRAINED MODEL FILE (h5). \n",
    "##########################################################\n",
    "keras_model_size = os.path.getsize(\"new_Fish_v27/\")/1048576  #Convert to MB\n",
    "print(\"Keras Model size is: \", keras_model_size, \"MB\")\n",
    "#Using regular keral model\n",
    "model = tf.keras.models.load_model(\"new_Fish_v27/\")"
   ]
  },
  {
   "cell_type": "code",
   "execution_count": 45,
   "id": "e65719a2",
   "metadata": {},
   "outputs": [
    {
     "name": "stdout",
     "output_type": "stream",
     "text": [
      "1/1 [==============================] - 7s 7s/step\n",
      "Total prediction time for keras model is:  7.935150861740112\n"
     ]
    }
   ],
   "source": [
    "time_before=time()\n",
    "keras_prediction = model.predict(image)\n",
    "time_after=time()\n",
    "total_keras_time = time_after - time_before\n",
    "print(\"Total prediction time for keras model is: \", total_keras_time)"
   ]
  },
  {
   "cell_type": "code",
   "execution_count": 46,
   "id": "e9ed87e9",
   "metadata": {},
   "outputs": [
    {
     "name": "stdout",
     "output_type": "stream",
     "text": [
      "The keras prediction for this image is:  [[0.07952833 0.92047167]]  0=tamban, 1=turingan\n"
     ]
    }
   ],
   "source": [
    "print(\"The keras prediction for this image is: \", keras_prediction, \" 0=tamban, 1=turingan\")"
   ]
  },
  {
   "cell_type": "code",
   "execution_count": 55,
   "id": "7a0063d9",
   "metadata": {},
   "outputs": [
    {
     "name": "stdout",
     "output_type": "stream",
     "text": [
      "tflite Model without opt. size is:  97.6204605102539 MB\n"
     ]
    }
   ],
   "source": [
    "##################################################################################\n",
    "#### PREDICT USING tflite ###\n",
    "############################################################################\n",
    "tflite_size = os.path.getsize(\"unoptim_Fish_v27.tflite\")/1048576  #Convert to MB\n",
    "print(\"tflite Model without opt. size is: \", tflite_size, \"MB\")\n",
    "#Not optimized (file size = 540MB). Taking about 0.5 seconds for inference\n",
    "tflite_model_path = \"unoptim_Fish_v27.tflite\""
   ]
  },
  {
   "cell_type": "code",
   "execution_count": 56,
   "id": "d8c7890e",
   "metadata": {},
   "outputs": [],
   "source": [
    "# Load the TFLite model and allocate tensors.\n",
    "interpreter = tf.lite.Interpreter(model_path=tflite_model_path)\n",
    "interpreter.allocate_tensors()\n",
    "\n",
    "# Get input and output tensors.\n",
    "input_details = interpreter.get_input_details()\n",
    "output_details = interpreter.get_output_details()"
   ]
  },
  {
   "cell_type": "code",
   "execution_count": 96,
   "id": "77831c81",
   "metadata": {},
   "outputs": [
    {
     "name": "stdout",
     "output_type": "stream",
     "text": [
      "[1 1 1 3]\n"
     ]
    }
   ],
   "source": [
    "# Test the model on input data.\n",
    "input_shape = input_details[0]['shape']\n",
    "print(input_shape)\n",
    "\n",
    "# Load image\n",
    "input_data = image\n",
    "\n",
    "input_data = np.expand_dims(input_data, axis=0)"
   ]
  },
  {
   "cell_type": "code",
   "execution_count": 98,
   "id": "030f4093",
   "metadata": {},
   "outputs": [
    {
     "name": "stdout",
     "output_type": "stream",
     "text": [
      "[1 1 1 3]\n"
     ]
    }
   ],
   "source": [
    "# Test the model on input data.\n",
    "input_shape = input_details[0]['shape']\n",
    "print(input_shape)\n",
    "\n",
    "import random\n",
    "# Load image\n",
    "#input_data1 = image\n",
    "input_data = np.array(np.random.random_sample(input_shape), dtype=np.float32)\n",
    "\n",
    "#\n"
   ]
  },
  {
   "cell_type": "code",
   "execution_count": 99,
   "id": "14bffb6b",
   "metadata": {},
   "outputs": [],
   "source": [
    "#test_image = np.expand_dims(test_image, axis=0)\n",
    "interpreter.set_tensor(input_details[0]['index'], input_data)"
   ]
  },
  {
   "cell_type": "code",
   "execution_count": 69,
   "id": "f3a13656",
   "metadata": {},
   "outputs": [
    {
     "name": "stdout",
     "output_type": "stream",
     "text": [
      "Total prediction time for tflite without opt model is:  0.0\n",
      "The tflite w/ opt prediction for this image is:  [[0.31520438 0.6847956 ]]  0=tamban, 1=turingan\n"
     ]
    }
   ],
   "source": [
    "time_before=time()\n",
    "interpreter.invoke()\n",
    "time_after=time()\n",
    "total_tflite_time = time_after - time_before\n",
    "print(\"Total prediction time for tflite without opt model is: \", total_tflite_time)\n",
    "\n",
    "output_data_tflite = interpreter.get_tensor(output_details[0]['index'])\n",
    "print(\"The tflite w/ opt prediction for this image is: \", output_data_tflite, \" 0=tamban, 1=turingan\")"
   ]
  },
  {
   "cell_type": "code",
   "execution_count": 76,
   "id": "56d22060",
   "metadata": {},
   "outputs": [
    {
     "name": "stdout",
     "output_type": "stream",
     "text": [
      "tflite Model with optimization size is:  48.84135055541992 MB\n"
     ]
    }
   ],
   "source": [
    "#################################################################\n",
    "#### PREDICT USING tflite with optimization###\n",
    "#################################################################\n",
    "tflite_optimized_size = os.path.getsize(\"Fish_v27.tflite\")/1048576  #Convert to MB\n",
    "print(\"tflite Model with optimization size is: \", tflite_optimized_size, \"MB\")\n",
    "#Optimized using default optimization strategy (file size = 135MB). Taking about 39 seconds for prediction\n",
    "tflite_optimized_model_path = \"Fish_v27.tflite\""
   ]
  },
  {
   "cell_type": "code",
   "execution_count": 77,
   "id": "5883951e",
   "metadata": {},
   "outputs": [],
   "source": [
    "# Load the TFLite model and allocate tensors.\n",
    "interpreter = tf.lite.Interpreter(model_path=tflite_optimized_model_path)\n",
    "interpreter.allocate_tensors()"
   ]
  },
  {
   "cell_type": "code",
   "execution_count": 78,
   "id": "c6a445cd",
   "metadata": {},
   "outputs": [],
   "source": [
    "# Get input and output tensors.\n",
    "input_details = interpreter.get_input_details()\n",
    "output_details = interpreter.get_output_details()"
   ]
  },
  {
   "cell_type": "code",
   "execution_count": 79,
   "id": "d9e64dfa",
   "metadata": {},
   "outputs": [
    {
     "name": "stdout",
     "output_type": "stream",
     "text": [
      "[1 1 1 3]\n"
     ]
    }
   ],
   "source": [
    "# Test the model on input data.\n",
    "input_shape = input_details[0]['shape']\n",
    "print(input_shape)"
   ]
  },
  {
   "cell_type": "code",
   "execution_count": 88,
   "id": "6ad4c4fb",
   "metadata": {},
   "outputs": [],
   "source": [
    "import random\n",
    "# Load image\n",
    "#input_data1 = image\n",
    "input_data = np.array(np.random.random_sample(input_shape), dtype=np.float32)"
   ]
  },
  {
   "cell_type": "code",
   "execution_count": 89,
   "id": "12ec96f4",
   "metadata": {},
   "outputs": [],
   "source": [
    "interpreter.set_tensor(input_details[0]['index'], input_data)"
   ]
  },
  {
   "cell_type": "code",
   "execution_count": 91,
   "id": "029bcf97",
   "metadata": {},
   "outputs": [
    {
     "name": "stdout",
     "output_type": "stream",
     "text": [
      "Total prediction time for tflite model with opt is:  0.015027761459350586\n"
     ]
    }
   ],
   "source": [
    "time_before=time()\n",
    "interpreter.invoke()\n",
    "time_after=time()\n",
    "total_tflite_opt_time = time_after - time_before\n",
    "print(\"Total prediction time for tflite model with opt is: \", total_tflite_opt_time)\n",
    "\n"
   ]
  },
  {
   "cell_type": "code",
   "execution_count": 92,
   "id": "47393d1e",
   "metadata": {},
   "outputs": [
    {
     "name": "stdout",
     "output_type": "stream",
     "text": [
      "The tflite with opt prediction for this image is:  [[0.3153619  0.68463814]]  0=Uninfected, 1=Parasited\n"
     ]
    }
   ],
   "source": [
    "output_data_tflite_opt = interpreter.get_tensor(output_details[0]['index'])\n",
    "print(\"The tflite with opt prediction for this image is: \", output_data_tflite_opt, \" 0=Uninfected, 1=Parasited\")"
   ]
  },
  {
   "cell_type": "code",
   "execution_count": 93,
   "id": "987ea0fc",
   "metadata": {},
   "outputs": [
    {
     "name": "stdout",
     "output_type": "stream",
     "text": [
      "###############################################\n",
      "Keras Model size is:  0.00390625\n",
      "tflite Model without opt. size is:  97.6204605102539\n",
      "tflite Model with optimization size is:  48.84135055541992\n",
      "________________________________________________\n",
      "Total prediction time for keras model is:  7.935150861740112\n",
      "Total prediction time for tflite without opt model is:  0.0\n",
      "Total prediction time for tflite model with opt is:  0.015027761459350586\n",
      "________________________________________________\n",
      "The keras prediction for this image is:  [[0.07952833 0.92047167]]  0=Uninfected, 1=Parasited\n",
      "The tflite w/o opt prediction for this image is:  [[0.31520438 0.6847956 ]]  0=Uninfected, 1=Parasited\n",
      "The tflite with opt prediction for this image is:  [[0.3153619  0.68463814]]  0=Uninfected, 1=Parasited\n"
     ]
    }
   ],
   "source": [
    "#Summary\n",
    "print(\"###############################################\")\n",
    "print(\"Keras Model size is: \", keras_model_size)\n",
    "print(\"tflite Model without opt. size is: \", tflite_size)\n",
    "print(\"tflite Model with optimization size is: \", tflite_optimized_size)\n",
    "print(\"________________________________________________\")\n",
    "print(\"Total prediction time for keras model is: \", total_keras_time)\n",
    "print(\"Total prediction time for tflite without opt model is: \", total_tflite_time)\n",
    "print(\"Total prediction time for tflite model with opt is: \", total_tflite_opt_time)\n",
    "print(\"________________________________________________\")\n",
    "print(\"The keras prediction for this image is: \", keras_prediction, \" 0=Uninfected, 1=Parasited\")\n",
    "print(\"The tflite w/o opt prediction for this image is: \", output_data_tflite, \" 0=Uninfected, 1=Parasited\")\n",
    "print(\"The tflite with opt prediction for this image is: \", output_data_tflite_opt, \" 0=Uninfected, 1=Parasited\")"
   ]
  },
  {
   "cell_type": "code",
   "execution_count": null,
   "id": "10d6ddf9",
   "metadata": {},
   "outputs": [],
   "source": []
  }
 ],
 "metadata": {
  "kernelspec": {
   "display_name": "Python 3 (ipykernel)",
   "language": "python",
   "name": "python3"
  },
  "language_info": {
   "codemirror_mode": {
    "name": "ipython",
    "version": 3
   },
   "file_extension": ".py",
   "mimetype": "text/x-python",
   "name": "python",
   "nbconvert_exporter": "python",
   "pygments_lexer": "ipython3",
   "version": "3.9.7"
  }
 },
 "nbformat": 4,
 "nbformat_minor": 5
}
