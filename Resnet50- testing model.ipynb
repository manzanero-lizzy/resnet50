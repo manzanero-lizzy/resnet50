{
 "cells": [
  {
   "cell_type": "code",
   "execution_count": 3,
   "id": "0b930688",
   "metadata": {},
   "outputs": [],
   "source": [
    "# Testing pb using keras input"
   ]
  },
  {
   "cell_type": "code",
   "execution_count": 24,
   "id": "20d099d1",
   "metadata": {},
   "outputs": [],
   "source": [
    "import os\n",
    "import tensorflow as tf\n",
    "from tensorflow.keras.models import *\n",
    "from tensorflow.keras.layers import *\n",
    "from tensorflow.keras.preprocessing.image import img_to_array, load_img\n",
    "from tensorflow.keras.applications.resnet50 import preprocess_input"
   ]
  },
  {
   "cell_type": "code",
   "execution_count": 25,
   "id": "8f807011",
   "metadata": {},
   "outputs": [],
   "source": [
    "import matplotlib.pyplot as plt \n",
    "import numpy as np\n",
    "import pandas as pd\n",
    "import seaborn as sn\n",
    "from sklearn import metrics \n",
    "import timeit\n",
    "import math"
   ]
  },
  {
   "cell_type": "code",
   "execution_count": 26,
   "id": "44d15de1",
   "metadata": {},
   "outputs": [],
   "source": [
    "import shutil"
   ]
  },
  {
   "cell_type": "code",
   "execution_count": 27,
   "id": "cc1add65",
   "metadata": {},
   "outputs": [],
   "source": [
    "def loglossTotal(n, m, p):\n",
    "    total = 0\n",
    "    for i in range(n):\n",
    "        for j in range(m):\n",
    "            if i==j:\n",
    "                prob = (p[i][j]) / 500\n",
    "                total += (math.log(prob))\n",
    "            \n",
    "    total = (-(1/n)) * total\n",
    "    return round(total,9)"
   ]
  },
  {
   "cell_type": "code",
   "execution_count": 28,
   "id": "b65c070a",
   "metadata": {},
   "outputs": [],
   "source": [
    "def loglossvar(n,p,c):\n",
    "    prob = (p[c][c]) / 500\n",
    "    total = (math.log(prob))\n",
    "    return round(total,9)"
   ]
  },
  {
   "cell_type": "code",
   "execution_count": 34,
   "id": "61f8ead0",
   "metadata": {},
   "outputs": [],
   "source": [
    "dirr = \"C:\\\\Users\\\\Eliza Marie\\\\Desktop\\\\thesis 2\\\\training\\\\test\\\\\"\n",
    "class_labels=['tamban', 'turingan']\n",
    "\n",
    "classCount = 2\n",
    "time = [0,0]\n",
    "out0=[]\n",
    "out2=[]"
   ]
  },
  {
   "cell_type": "code",
   "execution_count": 35,
   "id": "03cee40d",
   "metadata": {},
   "outputs": [],
   "source": [
    "arr = os.listdir(dirr)\n",
    "arr2 = [] # actual variety\n",
    "for x in arr:\n",
    "    for y in class_labels:\n",
    "        if y in x:\n",
    "            arr2.append(y)\n",
    "\n",
    "arrLen = len(arr)"
   ]
  },
  {
   "cell_type": "code",
   "execution_count": 36,
   "id": "f9de09f0",
   "metadata": {},
   "outputs": [
    {
     "ename": "PermissionError",
     "evalue": "[Errno 13] Permission denied: 'C:\\\\Users\\\\Eliza Marie\\\\Desktop\\\\thesis 2\\\\training\\\\test\\\\tamban'",
     "output_type": "error",
     "traceback": [
      "\u001b[1;31m---------------------------------------------------------------------------\u001b[0m",
      "\u001b[1;31mPermissionError\u001b[0m                           Traceback (most recent call last)",
      "\u001b[1;32mC:\\Users\\ELIZAM~1\\AppData\\Local\\Temp/ipykernel_9112/645276320.py\u001b[0m in \u001b[0;36m<cell line: 4>\u001b[1;34m()\u001b[0m\n\u001b[0;32m      4\u001b[0m \u001b[1;32mfor\u001b[0m \u001b[0mx\u001b[0m \u001b[1;32min\u001b[0m \u001b[0mrange\u001b[0m\u001b[1;33m(\u001b[0m\u001b[0marrLen\u001b[0m\u001b[1;33m)\u001b[0m\u001b[1;33m:\u001b[0m\u001b[1;33m\u001b[0m\u001b[1;33m\u001b[0m\u001b[0m\n\u001b[0;32m      5\u001b[0m     \u001b[0mimDir\u001b[0m \u001b[1;33m=\u001b[0m \u001b[0mdirr\u001b[0m\u001b[1;33m+\u001b[0m\u001b[0marr\u001b[0m\u001b[1;33m[\u001b[0m\u001b[0mx\u001b[0m\u001b[1;33m]\u001b[0m\u001b[1;33m\u001b[0m\u001b[1;33m\u001b[0m\u001b[0m\n\u001b[1;32m----> 6\u001b[1;33m     \u001b[0mimIn\u001b[0m \u001b[1;33m=\u001b[0m \u001b[0mload_img\u001b[0m\u001b[1;33m(\u001b[0m\u001b[0mimDir\u001b[0m\u001b[1;33m,\u001b[0m \u001b[0mtarget_size\u001b[0m\u001b[1;33m=\u001b[0m\u001b[1;33m(\u001b[0m\u001b[1;36m224\u001b[0m\u001b[1;33m,\u001b[0m \u001b[1;36m224\u001b[0m\u001b[1;33m)\u001b[0m\u001b[1;33m)\u001b[0m\u001b[1;33m\u001b[0m\u001b[1;33m\u001b[0m\u001b[0m\n\u001b[0m\u001b[0;32m      7\u001b[0m     \u001b[0mimIn\u001b[0m \u001b[1;33m=\u001b[0m \u001b[0mimg_to_array\u001b[0m\u001b[1;33m(\u001b[0m\u001b[0mimIn\u001b[0m\u001b[1;33m)\u001b[0m\u001b[1;33m\u001b[0m\u001b[1;33m\u001b[0m\u001b[0m\n\u001b[0;32m      8\u001b[0m     \u001b[0mimIn\u001b[0m \u001b[1;33m=\u001b[0m \u001b[0mimIn\u001b[0m\u001b[1;33m.\u001b[0m\u001b[0mreshape\u001b[0m\u001b[1;33m(\u001b[0m\u001b[1;33m(\u001b[0m\u001b[1;36m1\u001b[0m\u001b[1;33m,\u001b[0m \u001b[0mimIn\u001b[0m\u001b[1;33m.\u001b[0m\u001b[0mshape\u001b[0m\u001b[1;33m[\u001b[0m\u001b[1;36m0\u001b[0m\u001b[1;33m]\u001b[0m\u001b[1;33m,\u001b[0m \u001b[0mimIn\u001b[0m\u001b[1;33m.\u001b[0m\u001b[0mshape\u001b[0m\u001b[1;33m[\u001b[0m\u001b[1;36m1\u001b[0m\u001b[1;33m]\u001b[0m\u001b[1;33m,\u001b[0m \u001b[0mimIn\u001b[0m\u001b[1;33m.\u001b[0m\u001b[0mshape\u001b[0m\u001b[1;33m[\u001b[0m\u001b[1;36m2\u001b[0m\u001b[1;33m]\u001b[0m\u001b[1;33m)\u001b[0m\u001b[1;33m)\u001b[0m\u001b[1;33m\u001b[0m\u001b[1;33m\u001b[0m\u001b[0m\n",
      "\u001b[1;32m~\\anaconda3\\lib\\site-packages\\keras\\utils\\image_utils.py\u001b[0m in \u001b[0;36mload_img\u001b[1;34m(path, grayscale, color_mode, target_size, interpolation, keep_aspect_ratio)\u001b[0m\n\u001b[0;32m    420\u001b[0m         \u001b[1;32mif\u001b[0m \u001b[0misinstance\u001b[0m\u001b[1;33m(\u001b[0m\u001b[0mpath\u001b[0m\u001b[1;33m,\u001b[0m \u001b[0mpathlib\u001b[0m\u001b[1;33m.\u001b[0m\u001b[0mPath\u001b[0m\u001b[1;33m)\u001b[0m\u001b[1;33m:\u001b[0m\u001b[1;33m\u001b[0m\u001b[1;33m\u001b[0m\u001b[0m\n\u001b[0;32m    421\u001b[0m             \u001b[0mpath\u001b[0m \u001b[1;33m=\u001b[0m \u001b[0mstr\u001b[0m\u001b[1;33m(\u001b[0m\u001b[0mpath\u001b[0m\u001b[1;33m.\u001b[0m\u001b[0mresolve\u001b[0m\u001b[1;33m(\u001b[0m\u001b[1;33m)\u001b[0m\u001b[1;33m)\u001b[0m\u001b[1;33m\u001b[0m\u001b[1;33m\u001b[0m\u001b[0m\n\u001b[1;32m--> 422\u001b[1;33m         \u001b[1;32mwith\u001b[0m \u001b[0mopen\u001b[0m\u001b[1;33m(\u001b[0m\u001b[0mpath\u001b[0m\u001b[1;33m,\u001b[0m \u001b[1;34m\"rb\"\u001b[0m\u001b[1;33m)\u001b[0m \u001b[1;32mas\u001b[0m \u001b[0mf\u001b[0m\u001b[1;33m:\u001b[0m\u001b[1;33m\u001b[0m\u001b[1;33m\u001b[0m\u001b[0m\n\u001b[0m\u001b[0;32m    423\u001b[0m             \u001b[0mimg\u001b[0m \u001b[1;33m=\u001b[0m \u001b[0mpil_image\u001b[0m\u001b[1;33m.\u001b[0m\u001b[0mopen\u001b[0m\u001b[1;33m(\u001b[0m\u001b[0mio\u001b[0m\u001b[1;33m.\u001b[0m\u001b[0mBytesIO\u001b[0m\u001b[1;33m(\u001b[0m\u001b[0mf\u001b[0m\u001b[1;33m.\u001b[0m\u001b[0mread\u001b[0m\u001b[1;33m(\u001b[0m\u001b[1;33m)\u001b[0m\u001b[1;33m)\u001b[0m\u001b[1;33m)\u001b[0m\u001b[1;33m\u001b[0m\u001b[1;33m\u001b[0m\u001b[0m\n\u001b[0;32m    424\u001b[0m     \u001b[1;32melse\u001b[0m\u001b[1;33m:\u001b[0m\u001b[1;33m\u001b[0m\u001b[1;33m\u001b[0m\u001b[0m\n",
      "\u001b[1;31mPermissionError\u001b[0m: [Errno 13] Permission denied: 'C:\\\\Users\\\\Eliza Marie\\\\Desktop\\\\thesis 2\\\\training\\\\test\\\\tamban'"
     ]
    }
   ],
   "source": [
    "# pb model\n",
    "model = tf.keras.models.load_model(\"new_Fish_v27/\")\n",
    "\n",
    "for x in range(arrLen):\n",
    "    imDir = dirr+arr[x]\n",
    "    imIn = load_img(imDir, target_size=(224, 224))\n",
    "    imIn = img_to_array(imIn)\n",
    "    imIn = imIn.reshape((1, imIn.shape[0], imIn.shape[1], imIn.shape[2]))\n",
    "    imIn = preprocess_input(imIn)\n",
    "    \n",
    "    start = timeit.default_timer()\n",
    "    result = model.predict(imIn)\n",
    "    result = np.squeeze(result)\n",
    "    result = np.argmax(result)\n",
    "    end = timeit.default_timer()\n",
    "    \n",
    "    duration = end - start\n",
    "    \n",
    "    for y in range(classCount):\n",
    "        if arr2[x] == class_labels[y]:\n",
    "            time[y] +=duration\n",
    "\n",
    "out2.append(class_labels[result])\n",
    "out0.append(arr2[x])\n",
    "print(arr2[x], \" \", class_labels[result])"
   ]
  },
  {
   "cell_type": "code",
   "execution_count": null,
   "id": "af729b3a",
   "metadata": {},
   "outputs": [],
   "source": [
    "out_df2 = pd.DataFrame(np.vstack([out2, out0]).T,"
   ]
  }
 ],
 "metadata": {
  "kernelspec": {
   "display_name": "Python 3 (ipykernel)",
   "language": "python",
   "name": "python3"
  },
  "language_info": {
   "codemirror_mode": {
    "name": "ipython",
    "version": 3
   },
   "file_extension": ".py",
   "mimetype": "text/x-python",
   "name": "python",
   "nbconvert_exporter": "python",
   "pygments_lexer": "ipython3",
   "version": "3.9.7"
  }
 },
 "nbformat": 4,
 "nbformat_minor": 5
}
