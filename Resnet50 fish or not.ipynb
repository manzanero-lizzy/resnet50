{
 "cells": [
  {
   "cell_type": "code",
   "execution_count": 4,
   "id": "eb9d2e3f",
   "metadata": {},
   "outputs": [],
   "source": [
    "from tensorflow.keras.applications.resnet50 import ResNet50\n",
    "from tensorflow.keras.applications.resnet50 import preprocess_input, decode_predictions\n",
    "from tensorflow.keras.preprocessing import image\n",
    "import numpy as np"
   ]
  },
  {
   "cell_type": "code",
   "execution_count": 2,
   "id": "ead98ce9",
   "metadata": {},
   "outputs": [
    {
     "name": "stdout",
     "output_type": "stream",
     "text": [
      "Downloading data from https://storage.googleapis.com/tensorflow/keras-applications/resnet/resnet50_weights_tf_dim_ordering_tf_kernels.h5\n",
      "102967424/102967424 [==============================] - 272s 3us/step\n"
     ]
    }
   ],
   "source": [
    "model = ResNet50(weights='imagenet')"
   ]
  },
  {
   "cell_type": "code",
   "execution_count": 3,
   "id": "3278e215",
   "metadata": {},
   "outputs": [],
   "source": [
    "path = 'C:/Users/Eliza Marie/Desktop/thesis 2/training/test/tamban/IMG20230303195404 256 x 256.jpg'\n",
    "img = image.load_img(path, target_size=(224, 224))\n",
    "x = image.img_to_array(img)\n",
    "x = np.expand_dims(x, axis=0)\n",
    "x = preprocess_input(x)"
   ]
  },
  {
   "cell_type": "code",
   "execution_count": 6,
   "id": "8650d451",
   "metadata": {},
   "outputs": [
    {
     "name": "stdout",
     "output_type": "stream",
     "text": [
      "1/1 [==============================] - 0s 172ms/step\n",
      "Downloading data from https://storage.googleapis.com/download.tensorflow.org/data/imagenet_class_index.json\n",
      "35363/35363 [==============================] - 0s 0us/step\n",
      "Predicted:  [('n02514041', 'barracouta', 0.810669), ('n01945685', 'slug', 0.058491316), ('n02536864', 'coho', 0.030851606)]\n"
     ]
    }
   ],
   "source": [
    "peds = model.predict(x)\n",
    "print('Predicted: ', decode_predictions(peds, top=3)[0])"
   ]
  },
  {
   "cell_type": "code",
   "execution_count": 9,
   "id": "b0bdda28",
   "metadata": {},
   "outputs": [
    {
     "data": {
      "text/plain": [
       "'\\ngoldfish, Carassius auratus,\\ngreat white shark, white shark, man-eater, man-eating shark, Carcharodon carcharias\\ntiger shark, Galeocerdo cuvieri\\nhammerhead, hammerhead shark\\nelectric ray, crampfish, numbfish, torpedo\\nstingray\\ngrey whale, gray whale, devilfish, Eschrichtius gibbosus, Eschrichtius robustus\\nkiller whale, killer, orca, grampus, sea wolf, Orcinus orca\\ndugong, Dugong dugon\\n321\\n'"
      ]
     },
     "execution_count": 9,
     "metadata": {},
     "output_type": "execute_result"
    }
   ],
   "source": [
    "\"\"\"\n",
    "goldfish, Carassius auratus,\n",
    "great white shark, white shark, man-eater, man-eating shark, Carcharodon carcharias\n",
    "tiger shark, Galeocerdo cuvieri\n",
    "hammerhead, hammerhead shark\n",
    "electric ray, crampfish, numbfish, torpedo\n",
    "stingray\n",
    "grey whale, gray whale, devilfish, Eschrichtius gibbosus, Eschrichtius robustus\n",
    "killer whale, killer, orca, grampus, sea wolf, Orcinus orca\n",
    "dugong, Dugong dugon\n",
    "321\n",
    "\"\"\"\n"
   ]
  },
  {
   "cell_type": "code",
   "execution_count": null,
   "id": "e00b5b8a",
   "metadata": {},
   "outputs": [],
   "source": []
  }
 ],
 "metadata": {
  "kernelspec": {
   "display_name": "Python 3 (ipykernel)",
   "language": "python",
   "name": "python3"
  },
  "language_info": {
   "codemirror_mode": {
    "name": "ipython",
    "version": 3
   },
   "file_extension": ".py",
   "mimetype": "text/x-python",
   "name": "python",
   "nbconvert_exporter": "python",
   "pygments_lexer": "ipython3",
   "version": "3.9.7"
  }
 },
 "nbformat": 4,
 "nbformat_minor": 5
}
