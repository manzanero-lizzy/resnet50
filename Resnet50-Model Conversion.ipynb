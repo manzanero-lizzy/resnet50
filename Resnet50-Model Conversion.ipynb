{
 "cells": [
  {
   "cell_type": "code",
   "execution_count": 8,
   "id": "60cffd66",
   "metadata": {},
   "outputs": [],
   "source": [
    "import tensorflow as tf"
   ]
  },
  {
   "cell_type": "code",
   "execution_count": 9,
   "id": "c4fca6d5",
   "metadata": {},
   "outputs": [],
   "source": [
    "dirmodel = r\"Fish_v27/final/\""
   ]
  },
  {
   "cell_type": "code",
   "execution_count": 10,
   "id": "10c2a28d",
   "metadata": {},
   "outputs": [],
   "source": [
    "# Convert the model\n",
    "converter = tf.lite.TFLiteConverter.from_saved_model(dirmodel) #path to the SavedModel directory"
   ]
  },
  {
   "cell_type": "code",
   "execution_count": 12,
   "id": "7228bf54",
   "metadata": {},
   "outputs": [],
   "source": [
    "#### CONVERT THE MODEL TO FLOAT 16 QUANTIZED TFLITE MODEL ########\n",
    "#converter.optimizations = [tf.lite.Optimize.DEFAULT]\n",
    "#converter.target_spec.supported_types = [tf.float16]\n",
    "tflite_model = converter.convert()"
   ]
  },
  {
   "cell_type": "code",
   "execution_count": 13,
   "id": "e0e44ea3",
   "metadata": {},
   "outputs": [],
   "source": [
    "# save model\n",
    "with open('unoptim_Fish_v27.tflite', 'wb') as f:\n",
    "    f.write(tflite_model)"
   ]
  },
  {
   "cell_type": "code",
   "execution_count": null,
   "id": "a5a86df9",
   "metadata": {},
   "outputs": [],
   "source": []
  }
 ],
 "metadata": {
  "kernelspec": {
   "display_name": "Python 3 (ipykernel)",
   "language": "python",
   "name": "python3"
  },
  "language_info": {
   "codemirror_mode": {
    "name": "ipython",
    "version": 3
   },
   "file_extension": ".py",
   "mimetype": "text/x-python",
   "name": "python",
   "nbconvert_exporter": "python",
   "pygments_lexer": "ipython3",
   "version": "3.9.7"
  }
 },
 "nbformat": 4,
 "nbformat_minor": 5
}
